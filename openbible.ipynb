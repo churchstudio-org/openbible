{
  "nbformat": 4,
  "nbformat_minor": 0,
  "metadata": {
    "colab": {
      "provenance": [],
      "gpuType": "T4"
    },
    "kernelspec": {
      "name": "python3",
      "display_name": "Python 3"
    },
    "language_info": {
      "name": "python"
    },
    "accelerator": "GPU"
  },
  "cells": [
    {
      "cell_type": "code",
      "source": [
        "import requests\n",
        "import json\n",
        "import os\n",
        "\n",
        "# URL do JSON do openbible (versão em inglês – KJV)\n",
        "url = \"https://raw.githubusercontent.com/churchstudio-org/openbible/refs/heads/main/en_US/bible.json\"\n",
        "\n",
        "# 1. Fazer o download\n",
        "resp = requests.get(url)\n",
        "resp.raise_for_status()\n",
        "data = resp.json()\n",
        "\n",
        "# 2. (Opcional) checar estrutura\n",
        "# Por exemplo: contar livros, capítulos, versículos\n",
        "print(\"Número de livros:\", len(data))\n",
        "# Exibe quantos capítulos no primeiro livro\n",
        "print(\"Capítulos no livro 1:\", len(data[0]))\n",
        "# Exibe quantos versículos no capítulo 1 do livro 1\n",
        "print(\"Versículos no livro1, capítulo1:\", len(data[0][0]))\n",
        "# Exemplo de versículo:\n",
        "print(\"Primeiro versículo:\", data[0][0][0])\n",
        "\n",
        "# 3. (Opcional) filtrar ou modificar se necessário\n",
        "# Por exemplo, você poderia querer excluir livros apócrifos, ou remover notas etc.\n",
        "# Aqui vamos assumir que o arquivo já está correto para seus propósitos.\n",
        "\n",
        "# 4. Salvar como kjv.json\n",
        "output_path = \"kjv.json\"\n",
        "with open(output_path, \"w\", encoding=\"utf-8\") as f:\n",
        "    json.dump(data, f, ensure_ascii=False, indent=2)\n",
        "\n",
        "print(f\"Salvo como {output_path}, pronto para usar no pipeline de tradução.\")\n"
      ],
      "metadata": {
        "colab": {
          "base_uri": "https://localhost:8080/"
        },
        "id": "CrXlJK6lRA4l",
        "outputId": "fe4c94b6-a6a5-4250-97a2-a38a5aebfdf4"
      },
      "execution_count": 4,
      "outputs": [
        {
          "output_type": "stream",
          "name": "stdout",
          "text": [
            "Número de livros: 66\n",
            "Capítulos no livro 1: 50\n",
            "Versículos no livro1, capítulo1: 31\n",
            "Primeiro versículo: In the beginning God created the heaven and the earth.\n",
            "Salvo como kjv.json, pronto para usar no pipeline de tradução.\n"
          ]
        }
      ]
    },
    {
      "cell_type": "code",
      "source": [
        "!pip install transformers torch sentencepiece tqdm"
      ],
      "metadata": {
        "id": "XHuJDG8fV9Ts"
      },
      "execution_count": null,
      "outputs": []
    },
    {
      "cell_type": "code",
      "execution_count": 6,
      "metadata": {
        "id": "RUdfkShVPqRe",
        "colab": {
          "base_uri": "https://localhost:8080/"
        },
        "outputId": "a46a46d1-f0f3-48ad-e57c-9e8adfbead6a"
      },
      "outputs": [
        {
          "output_type": "stream",
          "name": "stdout",
          "text": [
            "cuda\n",
            "['In the beginning God created the heaven and the earth.', 'And the earth was without form, and void; and darkness was upon the face of the deep. And the Spirit of God moved upon the face of the waters.']\n"
          ]
        },
        {
          "output_type": "stream",
          "name": "stderr",
          "text": [
            "Livros: 100%|██████████| 66/66 [38:29<00:00, 35.00s/it]"
          ]
        },
        {
          "output_type": "stream",
          "name": "stdout",
          "text": [
            "Tradução final salva em kjv_pt.json ✅\n"
          ]
        },
        {
          "output_type": "stream",
          "name": "stderr",
          "text": [
            "\n"
          ]
        }
      ],
      "source": [
        "import torch\n",
        "device = torch.device(\"cuda\" if torch.cuda.is_available() else \"cpu\")\n",
        "print(device)\n",
        "\n",
        "import json\n",
        "from transformers import MarianMTModel, MarianTokenizer\n",
        "from tqdm import tqdm\n",
        "\n",
        "# ---------------------------------------------------------\n",
        "# 1. Escolher modelo (aqui MarianMT en->pt, mas pode trocar)\n",
        "# ---------------------------------------------------------\n",
        "model_name = \"Helsinki-NLP/opus-mt-tc-big-en-pt\"\n",
        "tokenizer = MarianTokenizer.from_pretrained(model_name)\n",
        "model = MarianMTModel.from_pretrained(model_name).to(device)\n",
        "\n",
        "# ---------------------------------------------------------\n",
        "# 2. Carregar texto bíblico em inglês (KJV)\n",
        "#    -> Estrutura tridimensional [livro][capítulo][versículo]\n",
        "# ---------------------------------------------------------\n",
        "with open(\"kjv.json\", \"r\") as f:\n",
        "    kjv = json.load(f)\n",
        "\n",
        "# Exemplo da estrutura (Genesis 1:1-2)\n",
        "print(kjv[0][0][0:2])\n",
        "\n",
        "# ---------------------------------------------------------\n",
        "# 3. Função para traduzir uma lista de versículos\n",
        "# ---------------------------------------------------------\n",
        "def translate_batch(verses, batch_size=8):\n",
        "    translations = []\n",
        "    for i in range(0, len(verses), batch_size):\n",
        "        batch = verses[i:i+batch_size]\n",
        "        inputs = tokenizer(batch, return_tensors=\"pt\", padding=True, truncation=True).to(device)\n",
        "        translated = model.generate(**inputs)\n",
        "        out = [tokenizer.decode(t, skip_special_tokens=True) for t in translated]\n",
        "        translations.extend(out)\n",
        "    return translations\n",
        "\n",
        "# ---------------------------------------------------------\n",
        "# 4. Traduzir toda a Bíblia\n",
        "# ---------------------------------------------------------\n",
        "bible_pt = []\n",
        "\n",
        "for book in tqdm(kjv, desc=\"Livros\"):\n",
        "    book_pt = []\n",
        "    for chapter in book:\n",
        "        chapter_pt = translate_batch(chapter)\n",
        "        book_pt.append(chapter_pt)\n",
        "    bible_pt.append(book_pt)\n",
        "\n",
        "# ---------------------------------------------------------\n",
        "# 5. Salvar no formato openbible\n",
        "# ---------------------------------------------------------\n",
        "with open(\"kjv_pt.json\", \"w\", encoding=\"utf-8\") as f:\n",
        "    json.dump(bible_pt, f, ensure_ascii=False, indent=2)\n",
        "\n",
        "print(\"Tradução final salva em kjv_pt.json ✅\")\n"
      ]
    },
    {
      "cell_type": "code",
      "source": [
        "from google.colab import files\n",
        "import shutil\n",
        "\n",
        "files.download('kjv_pt.json')"
      ],
      "metadata": {
        "colab": {
          "base_uri": "https://localhost:8080/",
          "height": 17
        },
        "id": "4S-QcEsXoJmD",
        "outputId": "50b13c57-5288-4974-eac5-c68d864b289b"
      },
      "execution_count": 7,
      "outputs": [
        {
          "output_type": "display_data",
          "data": {
            "text/plain": [
              "<IPython.core.display.Javascript object>"
            ],
            "application/javascript": [
              "\n",
              "    async function download(id, filename, size) {\n",
              "      if (!google.colab.kernel.accessAllowed) {\n",
              "        return;\n",
              "      }\n",
              "      const div = document.createElement('div');\n",
              "      const label = document.createElement('label');\n",
              "      label.textContent = `Downloading \"${filename}\": `;\n",
              "      div.appendChild(label);\n",
              "      const progress = document.createElement('progress');\n",
              "      progress.max = size;\n",
              "      div.appendChild(progress);\n",
              "      document.body.appendChild(div);\n",
              "\n",
              "      const buffers = [];\n",
              "      let downloaded = 0;\n",
              "\n",
              "      const channel = await google.colab.kernel.comms.open(id);\n",
              "      // Send a message to notify the kernel that we're ready.\n",
              "      channel.send({})\n",
              "\n",
              "      for await (const message of channel.messages) {\n",
              "        // Send a message to notify the kernel that we're ready.\n",
              "        channel.send({})\n",
              "        if (message.buffers) {\n",
              "          for (const buffer of message.buffers) {\n",
              "            buffers.push(buffer);\n",
              "            downloaded += buffer.byteLength;\n",
              "            progress.value = downloaded;\n",
              "          }\n",
              "        }\n",
              "      }\n",
              "      const blob = new Blob(buffers, {type: 'application/binary'});\n",
              "      const a = document.createElement('a');\n",
              "      a.href = window.URL.createObjectURL(blob);\n",
              "      a.download = filename;\n",
              "      div.appendChild(a);\n",
              "      a.click();\n",
              "      div.remove();\n",
              "    }\n",
              "  "
            ]
          },
          "metadata": {}
        },
        {
          "output_type": "display_data",
          "data": {
            "text/plain": [
              "<IPython.core.display.Javascript object>"
            ],
            "application/javascript": [
              "download(\"download_7146116d-270d-403d-8bb6-4c154a33a175\", \"kjv_pt.json\", 4223209)"
            ]
          },
          "metadata": {}
        }
      ]
    }
  ]
}