{
  "cells": [
    {
      "cell_type": "code",
      "execution_count": null,
      "metadata": {},
      "outputs": [],
      "source": [
        "!pip install openai transformers torch sentencepiece tqdm\n",
        "\n",
        "!git clone https://github.com/churchstudio-org/openbible.git\n",
        "%cd ./openbible\n",
        "\n",
        "!python scripts/cli/list_metadata.py https://github.com/churchstudio-org/openbible/raw/main/\n",
        "!cat metadata.json"
      ]
    },
    {
      "cell_type": "code",
      "execution_count": null,
      "metadata": {
        "colab": {
          "base_uri": "https://localhost:8080/"
        },
        "id": "RUdfkShVPqRe",
        "outputId": "a46a46d1-f0f3-48ad-e57c-9e8adfbead6a"
      },
      "outputs": [],
      "source": [
        "from scripts.bible_utils import load_metadata, load_source_bible, save_bible, split_bible_by_book\n",
        "from scripts.translator_factory import get_translator\n",
        "import os, shutil\n",
        "from google.colab import files\n",
        "\n",
        "metadata = load_metadata()\n",
        "generated_versions = []\n",
        "\n",
        "for entry in metadata:\n",
        "    version = entry.get(\"version\")\n",
        "    model_name = entry.get(\"model\")\n",
        "    source_version = entry.get(\"source\")\n",
        "    prompt = entry.get(\"prompt\")\n",
        "\n",
        "    if not version or not model_name or not source_version:\n",
        "        print(f\"⚠️ Unable to parse incomplete metadata: {entry}\")\n",
        "        continue\n",
        "\n",
        "    version_dir = os.path.join(os.getcwd(), version)\n",
        "    bible_path = os.path.join(version_dir, \"bible.json\")\n",
        "\n",
        "    if os.path.exists(bible_path):\n",
        "        print(f\"✅ {version} is already translated.\")\n",
        "        continue\n",
        "\n",
        "    print(f\"\\n🌐 Start {version} translation using {model_name}...\")\n",
        "    translator = get_translator(model_name, prompt)\n",
        "    source_bible = load_source_bible(source_version)\n",
        "\n",
        "    translated_bible = []\n",
        "    for book in source_bible:\n",
        "        translated_bible.append(translator.translate_book(book))\n",
        "\n",
        "    save_bible(translated_bible, version_dir)\n",
        "    split_bible_by_book(translated_bible, version_dir)\n",
        "    print(f\"📚 {version} salvo em {version_dir}\")\n",
        "\n",
        "    generated_versions.append(version_dir)\n",
        "    translator.close()\n",
        "\n",
        "for version_dir in generated_versions:\n",
        "    zip_name = f\"{os.path.basename(version_dir)}.zip\"\n",
        "    shutil.make_archive(os.path.splitext(zip_name)[0], 'zip', version_dir)\n",
        "    files.download(f\"{os.path.splitext(zip_name)[0]}.zip\")\n"
      ]
    }
  ],
  "metadata": {
    "accelerator": "GPU",
    "colab": {
      "gpuType": "T4",
      "provenance": []
    },
    "kernelspec": {
      "display_name": "Python 3",
      "name": "python3"
    },
    "language_info": {
      "name": "python"
    }
  },
  "nbformat": 4,
  "nbformat_minor": 0
}
